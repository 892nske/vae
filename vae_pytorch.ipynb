{
 "cells": [
  {
   "cell_type": "code",
   "execution_count": 3,
   "metadata": {},
   "outputs": [],
   "source": [
    "import torch\n",
    "import torch.nn as nn\n",
    "import torch.nn.functional as F\n",
    "import numpy as np\n",
    "import matplotlib.pyplot as plt\n",
    "from torch import optim\n",
    "import torch.utils as utils\n",
    "from torchvision import datasets, transforms"
   ]
  },
  {
   "cell_type": "code",
   "execution_count": 7,
   "metadata": {},
   "outputs": [],
   "source": [
    "device = torch.device(\"cuda\" if torch.cuda.is_available() else \"cpu\")"
   ]
  },
  {
   "cell_type": "code",
   "execution_count": 4,
   "metadata": {},
   "outputs": [
    {
     "name": "stdout",
     "output_type": "stream",
     "text": [
      "Downloading http://yann.lecun.com/exdb/mnist/train-images-idx3-ubyte.gz\n",
      "Downloading http://yann.lecun.com/exdb/mnist/train-images-idx3-ubyte.gz to /home/nske/mnist/MNIST/raw/train-images-idx3-ubyte.gz\n"
     ]
    },
    {
     "data": {
      "application/vnd.jupyter.widget-view+json": {
       "model_id": "5d6c808a24b64cd0a28dacd4afcdb61c",
       "version_major": 2,
       "version_minor": 0
      },
      "text/plain": [
       "  0%|          | 0/9912422 [00:00<?, ?it/s]"
      ]
     },
     "metadata": {},
     "output_type": "display_data"
    },
    {
     "name": "stdout",
     "output_type": "stream",
     "text": [
      "Extracting /home/nske/mnist/MNIST/raw/train-images-idx3-ubyte.gz to /home/nske/mnist/MNIST/raw\n",
      "\n",
      "Downloading http://yann.lecun.com/exdb/mnist/train-labels-idx1-ubyte.gz\n",
      "Downloading http://yann.lecun.com/exdb/mnist/train-labels-idx1-ubyte.gz to /home/nske/mnist/MNIST/raw/train-labels-idx1-ubyte.gz\n"
     ]
    },
    {
     "data": {
      "application/vnd.jupyter.widget-view+json": {
       "model_id": "c0ae1f7acd7c407abd7061fa78329833",
       "version_major": 2,
       "version_minor": 0
      },
      "text/plain": [
       "  0%|          | 0/28881 [00:00<?, ?it/s]"
      ]
     },
     "metadata": {},
     "output_type": "display_data"
    },
    {
     "name": "stdout",
     "output_type": "stream",
     "text": [
      "Extracting /home/nske/mnist/MNIST/raw/train-labels-idx1-ubyte.gz to /home/nske/mnist/MNIST/raw\n",
      "\n",
      "Downloading http://yann.lecun.com/exdb/mnist/t10k-images-idx3-ubyte.gz\n",
      "Downloading http://yann.lecun.com/exdb/mnist/t10k-images-idx3-ubyte.gz to /home/nske/mnist/MNIST/raw/t10k-images-idx3-ubyte.gz\n"
     ]
    },
    {
     "data": {
      "application/vnd.jupyter.widget-view+json": {
       "model_id": "59509ff2cbe342e6a8706198ca854434",
       "version_major": 2,
       "version_minor": 0
      },
      "text/plain": [
       "  0%|          | 0/1648877 [00:00<?, ?it/s]"
      ]
     },
     "metadata": {},
     "output_type": "display_data"
    },
    {
     "name": "stdout",
     "output_type": "stream",
     "text": [
      "Extracting /home/nske/mnist/MNIST/raw/t10k-images-idx3-ubyte.gz to /home/nske/mnist/MNIST/raw\n",
      "\n",
      "Downloading http://yann.lecun.com/exdb/mnist/t10k-labels-idx1-ubyte.gz\n",
      "Downloading http://yann.lecun.com/exdb/mnist/t10k-labels-idx1-ubyte.gz to /home/nske/mnist/MNIST/raw/t10k-labels-idx1-ubyte.gz\n"
     ]
    },
    {
     "data": {
      "application/vnd.jupyter.widget-view+json": {
       "model_id": "3968bb09410f4914832057412832bf89",
       "version_major": 2,
       "version_minor": 0
      },
      "text/plain": [
       "  0%|          | 0/4542 [00:00<?, ?it/s]"
      ]
     },
     "metadata": {},
     "output_type": "display_data"
    },
    {
     "name": "stdout",
     "output_type": "stream",
     "text": [
      "Extracting /home/nske/mnist/MNIST/raw/t10k-labels-idx1-ubyte.gz to /home/nske/mnist/MNIST/raw\n",
      "\n"
     ]
    },
    {
     "name": "stderr",
     "output_type": "stream",
     "text": [
      "/home/nske/miniconda3/envs/jp/lib/python3.7/site-packages/torchvision/datasets/mnist.py:498: UserWarning: The given NumPy array is not writeable, and PyTorch does not support non-writeable tensors. This means you can write to the underlying (supposedly non-writeable) NumPy array using the tensor. You may want to copy the array to protect its data or make it writeable before converting it to a tensor. This type of warning will be suppressed for the rest of this program. (Triggered internally at  /pytorch/torch/csrc/utils/tensor_numpy.cpp:180.)\n",
      "  return torch.from_numpy(parsed.astype(m[2], copy=False)).view(*s)\n"
     ]
    }
   ],
   "source": [
    "transform = transforms.Compose([\n",
    "    transforms.ToTensor(), \n",
    "    transforms.Lambda(lambda x: x.view(-1))])\n",
    "\n",
    "dataset_train = datasets.MNIST(\n",
    "    '~/mnist', \n",
    "    train=True, \n",
    "    download=True, \n",
    "    transform=transform)\n",
    "dataset_valid = datasets.MNIST(\n",
    "    '~/mnist', \n",
    "    train=False, \n",
    "    download=True, \n",
    "    transform=transform)\n",
    "\n",
    "batch_size = 1000\n",
    "\n",
    "dataloader_train = utils.data.DataLoader(dataset_train,\n",
    "                                          batch_size=batch_size,\n",
    "                                          shuffle=True,\n",
    "                                          num_workers=4)\n",
    "dataloader_valid = utils.data.DataLoader(dataset_valid,\n",
    "                                          batch_size=batch_size,\n",
    "                                          shuffle=True,\n",
    "                                          num_workers=4)"
   ]
  },
  {
   "cell_type": "code",
   "execution_count": 5,
   "metadata": {},
   "outputs": [],
   "source": [
    "class VAE(nn.Module):\n",
    "    def __init__(self, x_dim, z_dim):\n",
    "      super(VAE, self).__init__()\n",
    "      self.x_dim = x_dim\n",
    "      self.z_dim = z_dim\n",
    "      self.fc1 = nn.Linear(x_dim, 20)\n",
    "      self.bn1 = nn.BatchNorm1d(20)\n",
    "      self.fc2_mean = nn.Linear(20, z_dim)\n",
    "      self.fc2_var = nn.Linear(20, z_dim)\n",
    "\n",
    "      self.fc3 = nn.Linear(z_dim, 20)\n",
    "      self.drop1 = nn.Dropout(p=0.2)\n",
    "      self.fc4 = nn.Linear(20, x_dim)\n",
    "\n",
    "    def encoder(self, x):\n",
    "      x = x.view(-1, self.x_dim)\n",
    "      x = F.relu(self.fc1(x))\n",
    "      x = self.bn1(x)\n",
    "      mean = self.fc2_mean(x)\n",
    "      log_var = self.fc2_var(x)\n",
    "      return mean, log_var\n",
    "\n",
    "    def sample_z(self, mean, log_var, device):\n",
    "      epsilon = torch.randn(mean.shape, device=device)\n",
    "      return mean + epsilon * torch.exp(0.5*log_var)\n",
    "\n",
    "    def decoder(self, z):\n",
    "      y = F.relu(self.fc3(z))\n",
    "      y = self.drop1(y)\n",
    "      y = torch.sigmoid(self.fc4(y))\n",
    "      return y\n",
    "\n",
    "    def forward(self, x, device):\n",
    "      x = x.view(-1, self.x_dim)\n",
    "      mean, log_var = self.encoder(x)\n",
    "      delta = 1e-8\n",
    "      KL = 0.5 * torch.sum(1 + log_var - mean**2 - torch.exp(log_var))\n",
    "      z = self.sample_z(mean, log_var, device)\n",
    "      y = self.decoder(z)\n",
    "      # 本来はmeanだがKLとのスケールを合わせるためにsumで対応\n",
    "      reconstruction = torch.sum(x * torch.log(y + delta) + (1 - x) * torch.log(1 - y + delta))\n",
    "      lower_bound = [KL, reconstruction]\n",
    "      return -sum(lower_bound), z, y"
   ]
  },
  {
   "cell_type": "code",
   "execution_count": 8,
   "metadata": {},
   "outputs": [
    {
     "name": "stdout",
     "output_type": "stream",
     "text": [
      "EPOCH: 0 loss: 494603.6875\n",
      "EPOCH: 1 loss: 305838.59375\n",
      "EPOCH: 2 loss: 234424.140625\n",
      "EPOCH: 3 loss: 214462.78125\n",
      "EPOCH: 4 loss: 203218.265625\n",
      "EPOCH: 5 loss: 196463.75\n",
      "EPOCH: 6 loss: 192243.15625\n",
      "EPOCH: 7 loss: 188345.34375\n",
      "EPOCH: 8 loss: 184437.0\n",
      "EPOCH: 9 loss: 180969.046875\n",
      "EPOCH: 10 loss: 178109.015625\n",
      "EPOCH: 11 loss: 175759.234375\n",
      "EPOCH: 12 loss: 173627.1875\n",
      "EPOCH: 13 loss: 171902.671875\n",
      "EPOCH: 14 loss: 170514.78125\n",
      "EPOCH: 15 loss: 169238.53125\n",
      "EPOCH: 16 loss: 168032.84375\n",
      "EPOCH: 17 loss: 166984.484375\n",
      "EPOCH: 18 loss: 166270.96875\n",
      "EPOCH: 19 loss: 165279.4375\n"
     ]
    }
   ],
   "source": [
    "model = VAE(x_dim=28*28, z_dim=10).to(device)\n",
    "optimizer = optim.Adam(model.parameters(), lr=0.001)\n",
    "model.train()\n",
    "\n",
    "num_epochs = 20\n",
    "loss_list = []\n",
    "for i in range(num_epochs):\n",
    "  losses = []\n",
    "  for x, t in dataloader_train:\n",
    "      x = x.to(device)\n",
    "      loss, z, y = model(x, device)\n",
    "      model.zero_grad()\n",
    "      loss.backward()\n",
    "      optimizer.step()\n",
    "      losses.append(loss.cpu().detach().numpy())\n",
    "  loss_list.append(np.average(losses))\n",
    "  print(\"EPOCH: {} loss: {}\".format(i, np.average(losses)))"
   ]
  },
  {
   "cell_type": "code",
   "execution_count": 9,
   "metadata": {},
   "outputs": [
    {
     "ename": "TypeError",
     "evalue": "forward() missing 1 required positional argument: 'device'",
     "output_type": "error",
     "traceback": [
      "\u001b[0;31m---------------------------------------------------------------------------\u001b[0m",
      "\u001b[0;31mTypeError\u001b[0m                                 Traceback (most recent call last)",
      "\u001b[0;32m<ipython-input-9-d93efdba59e5>\u001b[0m in \u001b[0;36m<module>\u001b[0;34m\u001b[0m\n\u001b[1;32m      9\u001b[0m \u001b[0;34m\u001b[0m\u001b[0m\n\u001b[1;32m     10\u001b[0m     \u001b[0mx\u001b[0m \u001b[0;34m=\u001b[0m \u001b[0mx\u001b[0m\u001b[0;34m.\u001b[0m\u001b[0mto\u001b[0m\u001b[0;34m(\u001b[0m\u001b[0mdevice\u001b[0m\u001b[0;34m)\u001b[0m\u001b[0;34m\u001b[0m\u001b[0;34m\u001b[0m\u001b[0m\n\u001b[0;32m---> 11\u001b[0;31m     \u001b[0my\u001b[0m\u001b[0;34m,\u001b[0m \u001b[0mz\u001b[0m \u001b[0;34m=\u001b[0m \u001b[0mmodel\u001b[0m\u001b[0;34m(\u001b[0m\u001b[0mx\u001b[0m\u001b[0;34m)\u001b[0m\u001b[0;34m\u001b[0m\u001b[0;34m\u001b[0m\u001b[0m\n\u001b[0m\u001b[1;32m     12\u001b[0m     \u001b[0mzs\u001b[0m\u001b[0;34m.\u001b[0m\u001b[0mappend\u001b[0m\u001b[0;34m(\u001b[0m\u001b[0mz\u001b[0m\u001b[0;34m)\u001b[0m\u001b[0;34m\u001b[0m\u001b[0;34m\u001b[0m\u001b[0m\n\u001b[1;32m     13\u001b[0m     \u001b[0my\u001b[0m \u001b[0;34m=\u001b[0m \u001b[0my\u001b[0m\u001b[0;34m.\u001b[0m\u001b[0mview\u001b[0m\u001b[0;34m(\u001b[0m\u001b[0;34m-\u001b[0m\u001b[0;36m1\u001b[0m\u001b[0;34m,\u001b[0m \u001b[0;36m28\u001b[0m\u001b[0;34m,\u001b[0m \u001b[0;36m28\u001b[0m\u001b[0;34m)\u001b[0m\u001b[0;34m\u001b[0m\u001b[0;34m\u001b[0m\u001b[0m\n",
      "\u001b[0;32m~/miniconda3/envs/jp/lib/python3.7/site-packages/torch/nn/modules/module.py\u001b[0m in \u001b[0;36m_call_impl\u001b[0;34m(self, *input, **kwargs)\u001b[0m\n\u001b[1;32m   1049\u001b[0m         if not (self._backward_hooks or self._forward_hooks or self._forward_pre_hooks or _global_backward_hooks\n\u001b[1;32m   1050\u001b[0m                 or _global_forward_hooks or _global_forward_pre_hooks):\n\u001b[0;32m-> 1051\u001b[0;31m             \u001b[0;32mreturn\u001b[0m \u001b[0mforward_call\u001b[0m\u001b[0;34m(\u001b[0m\u001b[0;34m*\u001b[0m\u001b[0minput\u001b[0m\u001b[0;34m,\u001b[0m \u001b[0;34m**\u001b[0m\u001b[0mkwargs\u001b[0m\u001b[0;34m)\u001b[0m\u001b[0;34m\u001b[0m\u001b[0;34m\u001b[0m\u001b[0m\n\u001b[0m\u001b[1;32m   1052\u001b[0m         \u001b[0;31m# Do not call functions when jit is used\u001b[0m\u001b[0;34m\u001b[0m\u001b[0;34m\u001b[0m\u001b[0;34m\u001b[0m\u001b[0m\n\u001b[1;32m   1053\u001b[0m         \u001b[0mfull_backward_hooks\u001b[0m\u001b[0;34m,\u001b[0m \u001b[0mnon_full_backward_hooks\u001b[0m \u001b[0;34m=\u001b[0m \u001b[0;34m[\u001b[0m\u001b[0;34m]\u001b[0m\u001b[0;34m,\u001b[0m \u001b[0;34m[\u001b[0m\u001b[0;34m]\u001b[0m\u001b[0;34m\u001b[0m\u001b[0;34m\u001b[0m\u001b[0m\n",
      "\u001b[0;31mTypeError\u001b[0m: forward() missing 1 required positional argument: 'device'"
     ]
    },
    {
     "data": {
      "image/png": "[encoded data removed]",
      "text/plain": [
       "<Figure size 1440x432 with 10 Axes>"
      ]
     },
     "metadata": {},
     "output_type": "display_data"
    }
   ],
   "source": [
    "fig = plt.figure(figsize=(20, 6))\n",
    "\n",
    "model.eval()\n",
    "zs = []\n",
    "for x, t in dataloader_valid:\n",
    "    for i, im in enumerate(x.view(-1, 28, 28).detach().numpy()[:10]):\n",
    "      ax = fig.add_subplot(3, 10, i+1, xticks=[], yticks=[])\n",
    "      ax.imshow(im, 'gray')\n",
    "\n",
    "    x = x.to(device)\n",
    "    y, z = model(x)\n",
    "    zs.append(z)\n",
    "    y = y.view(-1, 28, 28)\n",
    "    for i, im in enumerate(y.cpu().detach().numpy()[:10]):\n",
    "      ax = fig.add_subplot(3, 10, i+11, xticks=[], yticks=[])\n",
    "      ax.imshow(im, 'gray')\n",
    "    \n",
    "    z1to0 = torch.cat([z[1, :] * (i * 0.1) + z[0, :] * ((10 - i) * 0.1) for i in range(10)]).reshape(10, 10)\n",
    "    y2 = model._decoder(z1to0).view(-1, 28, 28)\n",
    "    for i, im in enumerate(y2.cpu().detach().numpy()[:20]):\n",
    "      ax = fig.add_subplot(3, 10, i+21, xticks=[], yticks=[])\n",
    "      ax.imshow(im, 'gray')\n",
    "    break"
   ]
  },
  {
   "cell_type": "code",
   "execution_count": 11,
   "metadata": {},
   "outputs": [],
   "source": [
    "from sklearn.manifold import TSNE\n",
    "from random import random\n",
    "\n",
    "colors = [\"red\", \"green\", \"blue\", \"orange\", \"purple\", \"brown\", \"fuchsia\", \"grey\", \"olive\", \"lightblue\"]\n",
    "def visualize_zs(zs, labels):\n",
    "  plt.figure(figsize=(10,10))\n",
    "  points = TSNE(n_components=2, random_state=0).fit_transform(zs)\n",
    "  for p, l in zip(points, labels):\n",
    "    plt.scatter(p[0], p[1], marker=\"${}$\".format(l), c=colors[l])\n",
    "  plt.show()\n",
    "\n",
    "model.eval()\n",
    "zs = []\n",
    "for x, t in dataloader_valid:\n",
    "    x = x.to(device)\n",
    "    t = t.to(device)\n",
    "    # generate from x\n",
    "    y, z = model(x)\n",
    "    z = z.cpu()\n",
    "    t = t.cpu()\n",
    "    visualize_zs(z.detach().numpy(), t.cpu().detach().numpy())\n",
    "    break"
   ]
  },
  {
   "cell_type": "code",
   "execution_count": null,
   "metadata": {},
   "outputs": [],
   "source": []
  }
 ],
 "metadata": {
  "kernelspec": {
   "display_name": "Python 3",
   "language": "python",
   "name": "python3"
  },
  "language_info": {
   "codemirror_mode": {
    "name": "ipython",
    "version": 3
   },
   "file_extension": ".py",
   "mimetype": "text/x-python",
   "name": "python",
   "nbconvert_exporter": "python",
   "pygments_lexer": "ipython3",
   "version": "3.7.9"
  }
 },
 "nbformat": 4,
 "nbformat_minor": 4
}
